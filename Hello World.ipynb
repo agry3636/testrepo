{
 "cells": [
  {
   "cell_type": "markdown",
   "id": "70e5d232-76a8-425c-b8ed-71b298387a32",
   "metadata": {},
   "source": [
    "# Hello world!"
   ]
  },
  {
   "cell_type": "code",
   "execution_count": 1,
   "id": "3eaa3ab7-45ca-4a7a-8b91-6ff247047006",
   "metadata": {
    "tags": []
   },
   "outputs": [],
   "source": [
    "y=20"
   ]
  },
  {
   "cell_type": "code",
   "execution_count": 2,
   "id": "9b60a659-f1d1-48f8-b624-ea8ce1e311da",
   "metadata": {
    "tags": []
   },
   "outputs": [],
   "source": [
    "x=5"
   ]
  },
  {
   "cell_type": "code",
   "execution_count": 3,
   "id": "fe4626ae-f9e4-4752-a4e2-352ecda03a35",
   "metadata": {
    "tags": []
   },
   "outputs": [
    {
     "data": {
      "text/plain": [
       "25"
      ]
     },
     "execution_count": 3,
     "metadata": {},
     "output_type": "execute_result"
    }
   ],
   "source": [
    "x+y"
   ]
  },
  {
   "cell_type": "code",
   "execution_count": null,
   "id": "2a90aa7e-b102-4af3-a026-a9649a9a3837",
   "metadata": {},
   "outputs": [],
   "source": []
  }
 ],
 "metadata": {
  "kernelspec": {
   "display_name": "Python",
   "language": "python",
   "name": "conda-env-python-py"
  },
  "language_info": {
   "codemirror_mode": {
    "name": "ipython",
    "version": 3
   },
   "file_extension": ".py",
   "mimetype": "text/x-python",
   "name": "python",
   "nbconvert_exporter": "python",
   "pygments_lexer": "ipython3",
   "version": "3.7.12"
  }
 },
 "nbformat": 4,
 "nbformat_minor": 5
}
